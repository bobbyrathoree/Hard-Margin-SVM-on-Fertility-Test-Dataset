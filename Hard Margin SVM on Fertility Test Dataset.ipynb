{
 "cells": [
  {
   "cell_type": "code",
   "execution_count": 13,
   "metadata": {},
   "outputs": [
    {
     "name": "stdout",
     "output_type": "stream",
     "text": [
      "   season   age  diseases  accident  surgical_intervention  \\\n",
      "0   -0.33  0.69         0         1                      1   \n",
      "1   -0.33  0.94         1         0                      1   \n",
      "2   -0.33  0.50         1         0                      0   \n",
      "3   -0.33  0.75         0         1                      1   \n",
      "4   -0.33  0.67         1         1                      0   \n",
      "\n",
      "   fevers_in_last_year  alcohol_consumption  smoking_habit  sitting_hours  \\\n",
      "0                    0                  0.8              0           0.88   \n",
      "1                    0                  0.8              1           0.31   \n",
      "2                    0                  1.0             -1           0.50   \n",
      "3                    0                  1.0             -1           0.38   \n",
      "4                    0                  0.8             -1           0.50   \n",
      "\n",
      "  class  \n",
      "0     N  \n",
      "1     O  \n",
      "2     N  \n",
      "3     N  \n",
      "4     O  \n"
     ]
    }
   ],
   "source": [
    "import numpy as np\n",
    "import pandas as pd\n",
    "from sklearn.model_selection import train_test_split\n",
    "from sklearn import preprocessing, neighbors, svm\n",
    "\n",
    "df = pd.read_csv('../datasets/FertilityTest_Dataset.txt')\n",
    "df.replace('?', -112233, inplace=True)\n",
    "print(df.head())"
   ]
  },
  {
   "cell_type": "code",
   "execution_count": 14,
   "metadata": {},
   "outputs": [
    {
     "name": "stdout",
     "output_type": "stream",
     "text": [
      "Accuracy: 0.95\n"
     ]
    }
   ],
   "source": [
    "X = np.array(df.drop(['class'], 1))\n",
    "y = np.array(df['class'])\n",
    "\n",
    "X_train, X_test, y_train, y_test = train_test_split(X, y, test_size=0.2)\n",
    "\n",
    "clf = svm.SVC()\n",
    "clf.fit(X_train, y_train)\n",
    "\n",
    "accuracy = clf.score(X_test, y_test)\n",
    "print('Accuracy: {}'.format(accuracy))"
   ]
  },
  {
   "cell_type": "code",
   "execution_count": 15,
   "metadata": {},
   "outputs": [
    {
     "name": "stdout",
     "output_type": "stream",
     "text": [
      "['N']\n"
     ]
    }
   ],
   "source": [
    "example_measures = np.array([[1,0.45,1,0,0,1,0.8,1,0.44]])\n",
    "example_measures = example_measures.reshape(len(example_measures), -1)\n",
    "result = clf.predict(example_measures)\n",
    "print(result)"
   ]
  },
  {
   "cell_type": "code",
   "execution_count": null,
   "metadata": {
    "collapsed": true
   },
   "outputs": [],
   "source": []
  }
 ],
 "metadata": {
  "kernelspec": {
   "display_name": "Python 3",
   "language": "python",
   "name": "python3"
  },
  "language_info": {
   "codemirror_mode": {
    "name": "ipython",
    "version": 3
   },
   "file_extension": ".py",
   "mimetype": "text/x-python",
   "name": "python",
   "nbconvert_exporter": "python",
   "pygments_lexer": "ipython3",
   "version": "3.6.5"
  }
 },
 "nbformat": 4,
 "nbformat_minor": 2
}
